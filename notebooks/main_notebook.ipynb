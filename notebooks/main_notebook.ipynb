{
 "cells": [
  {
   "cell_type": "code",
   "id": "initial_id",
   "metadata": {
    "collapsed": true,
    "ExecuteTime": {
     "end_time": "2024-05-13T08:16:05.485564Z",
     "start_time": "2024-05-13T08:16:05.481907Z"
    }
   },
   "source": [
    "import os\n",
    "import re\n",
    "import requests\n",
    "from io import StringIO\n",
    "from pdfminer.converter import TextConverter\n",
    "from pdfminer.layout import LAParams\n",
    "from pdfminer.pdfinterp import PDFResourceManager, PDFPageInterpreter\n",
    "from pdfminer.pdfpage import PDFPage\n",
    "import faiss\n",
    "import torch\n",
    "from transformers import BertTokenizer, BertModel\n",
    "from gpt4all import GPT4All"
   ],
   "outputs": [],
   "execution_count": 2
  },
  {
   "metadata": {
    "ExecuteTime": {
     "end_time": "2024-05-13T08:16:05.489585Z",
     "start_time": "2024-05-13T08:16:05.487381Z"
    }
   },
   "cell_type": "code",
   "source": [
    "def download_pdf_from_url(url, save_path):\n",
    "    response = requests.get(url)\n",
    "    with open(save_path, 'wb') as out_file:\n",
    "        out_file.write(response.content)"
   ],
   "id": "ed8af3cd54a86f5b",
   "outputs": [],
   "execution_count": 3
  },
  {
   "metadata": {
    "ExecuteTime": {
     "end_time": "2024-05-13T08:16:05.496635Z",
     "start_time": "2024-05-13T08:16:05.493619Z"
    }
   },
   "cell_type": "code",
   "source": [
    "def extract_text_from_pdf(pdf_path):\n",
    "    resource_manager = PDFResourceManager()\n",
    "    fake_file_handle = StringIO()\n",
    "    converter = TextConverter(resource_manager, fake_file_handle, laparams=LAParams())\n",
    "    page_interpreter = PDFPageInterpreter(resource_manager, converter)\n",
    "\n",
    "    with open(pdf_path, 'rb') as fh:\n",
    "        for page in PDFPage.get_pages(fh,\n",
    "                                      caching=True,\n",
    "                                      check_extractable=True):\n",
    "            page_interpreter.process_page(page)\n",
    "\n",
    "        text = fake_file_handle.getvalue()\n",
    "\n",
    "    converter.close()\n",
    "    fake_file_handle.close()\n",
    "\n",
    "    os.remove(pdf_path)\n",
    "\n",
    "    if text:\n",
    "        return text"
   ],
   "id": "8695d787345b30b2",
   "outputs": [],
   "execution_count": 4
  },
  {
   "metadata": {
    "ExecuteTime": {
     "end_time": "2024-05-13T08:16:05.500128Z",
     "start_time": "2024-05-13T08:16:05.497972Z"
    }
   },
   "cell_type": "code",
   "source": [
    "def preprocess_text(text):\n",
    "    text = re.sub(r'\\s+', ' ', text).strip()\n",
    "    sentences = re.split(r'(?<=[.!?]) +', text)\n",
    "    sentences = [sentence for sentence in sentences if sentence.strip()]\n",
    "    return sentences"
   ],
   "id": "98996651cacab3c4",
   "outputs": [],
   "execution_count": 5
  },
  {
   "metadata": {
    "ExecuteTime": {
     "end_time": "2024-05-13T08:16:05.504781Z",
     "start_time": "2024-05-13T08:16:05.501388Z"
    }
   },
   "cell_type": "code",
   "source": [
    "def embed_sentences(sentences, use_gpu=False):\n",
    "    device = torch.device(\"cuda\" if use_gpu and torch.cuda.is_available() else \"cpu\")\n",
    "    tokenizer = BertTokenizer.from_pretrained('bert-base-uncased')\n",
    "    model = BertModel.from_pretrained('bert-base-uncased', resume_download=False)\n",
    "\n",
    "    model.to(device)\n",
    "\n",
    "    tokenized_texts = [tokenizer.encode(sentence, add_special_tokens=True, max_length=512, truncation=True) for sentence in sentences]\n",
    "\n",
    "    max_len = max(len(sent) for sent in tokenized_texts)\n",
    "    padded_tokenized_texts = [sent + [tokenizer.pad_token_id] * (max_len - len(sent)) for sent in tokenized_texts]\n",
    "\n",
    "    indexed_tokens = torch.tensor(padded_tokenized_texts).to(device)\n",
    "\n",
    "    with torch.no_grad():\n",
    "        outputs = model(input_ids=indexed_tokens)\n",
    "        encoded_layers = outputs.last_hidden_state\n",
    "\n",
    "    embeddings = encoded_layers[:, 0, :]\n",
    "\n",
    "    return embeddings"
   ],
   "id": "899a5bfcf51d51c9",
   "outputs": [],
   "execution_count": 6
  },
  {
   "metadata": {
    "ExecuteTime": {
     "end_time": "2024-05-13T08:16:05.507577Z",
     "start_time": "2024-05-13T08:16:05.505488Z"
    }
   },
   "cell_type": "code",
   "source": [
    "def create_faiss_index(embeddings):\n",
    "    index = faiss.IndexFlatL2(embeddings.size(-1))\n",
    "    index.add(embeddings.cpu().numpy())\n",
    "    return index"
   ],
   "id": "e9ab57566517707c",
   "outputs": [],
   "execution_count": 7
  }
 ],
 "metadata": {
  "kernelspec": {
   "display_name": "Python 3",
   "language": "python",
   "name": "python3"
  },
  "language_info": {
   "codemirror_mode": {
    "name": "ipython",
    "version": 2
   },
   "file_extension": ".py",
   "mimetype": "text/x-python",
   "name": "python",
   "nbconvert_exporter": "python",
   "pygments_lexer": "ipython2",
   "version": "2.7.6"
  }
 },
 "nbformat": 4,
 "nbformat_minor": 5
}
